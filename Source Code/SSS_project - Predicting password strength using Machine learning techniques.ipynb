{
 "cells": [
  {
   "cell_type": "markdown",
   "id": "60f90303",
   "metadata": {},
   "source": [
    "# Predicting password strength using Machine learning techniques"
   ]
  },
  {
   "cell_type": "markdown",
   "id": "45ba5a9c",
   "metadata": {},
   "source": [
    "## Loading data set"
   ]
  },
  {
   "cell_type": "code",
   "execution_count": 1,
   "id": "65ac91ae",
   "metadata": {},
   "outputs": [],
   "source": [
    "import pandas as pd\n",
    "import numpy as np\n",
    "import seaborn as sns\n",
    "import matplotlib.pyplot as plt\n",
    "%matplotlib inline"
   ]
  },
  {
   "cell_type": "code",
   "execution_count": 2,
   "id": "f723a380",
   "metadata": {
    "scrolled": true
   },
   "outputs": [
    {
     "name": "stderr",
     "output_type": "stream",
     "text": [
      "C:\\Users\\PunithaGnanathesigan\\anaconda3\\lib\\site-packages\\IPython\\core\\interactiveshell.py:3444: FutureWarning: The error_bad_lines argument has been deprecated and will be removed in a future version.\n",
      "\n",
      "\n",
      "  exec(code_obj, self.user_global_ns, self.user_ns)\n",
      "b'Skipping line 2810: expected 2 fields, saw 5\\nSkipping line 4641: expected 2 fields, saw 5\\nSkipping line 7171: expected 2 fields, saw 5\\nSkipping line 11220: expected 2 fields, saw 5\\nSkipping line 13809: expected 2 fields, saw 5\\nSkipping line 14132: expected 2 fields, saw 5\\nSkipping line 14293: expected 2 fields, saw 5\\nSkipping line 14865: expected 2 fields, saw 5\\nSkipping line 17419: expected 2 fields, saw 5\\nSkipping line 22801: expected 2 fields, saw 5\\nSkipping line 25001: expected 2 fields, saw 5\\nSkipping line 26603: expected 2 fields, saw 5\\nSkipping line 26742: expected 2 fields, saw 5\\nSkipping line 29702: expected 2 fields, saw 5\\nSkipping line 32767: expected 2 fields, saw 5\\nSkipping line 32878: expected 2 fields, saw 5\\nSkipping line 35643: expected 2 fields, saw 5\\nSkipping line 36550: expected 2 fields, saw 5\\nSkipping line 38732: expected 2 fields, saw 5\\nSkipping line 40567: expected 2 fields, saw 5\\nSkipping line 40576: expected 2 fields, saw 5\\nSkipping line 41864: expected 2 fields, saw 5\\nSkipping line 46861: expected 2 fields, saw 5\\nSkipping line 47939: expected 2 fields, saw 5\\nSkipping line 48628: expected 2 fields, saw 5\\nSkipping line 48908: expected 2 fields, saw 5\\nSkipping line 57582: expected 2 fields, saw 5\\nSkipping line 58782: expected 2 fields, saw 5\\nSkipping line 58984: expected 2 fields, saw 5\\nSkipping line 61518: expected 2 fields, saw 5\\nSkipping line 63451: expected 2 fields, saw 5\\nSkipping line 68141: expected 2 fields, saw 5\\nSkipping line 72083: expected 2 fields, saw 5\\nSkipping line 74027: expected 2 fields, saw 5\\nSkipping line 77811: expected 2 fields, saw 5\\nSkipping line 83958: expected 2 fields, saw 5\\nSkipping line 85295: expected 2 fields, saw 5\\nSkipping line 88665: expected 2 fields, saw 5\\nSkipping line 89198: expected 2 fields, saw 5\\nSkipping line 92499: expected 2 fields, saw 5\\nSkipping line 92751: expected 2 fields, saw 5\\nSkipping line 93689: expected 2 fields, saw 5\\nSkipping line 94776: expected 2 fields, saw 5\\nSkipping line 97334: expected 2 fields, saw 5\\nSkipping line 102316: expected 2 fields, saw 5\\nSkipping line 103421: expected 2 fields, saw 5\\nSkipping line 106872: expected 2 fields, saw 5\\nSkipping line 109363: expected 2 fields, saw 5\\nSkipping line 110117: expected 2 fields, saw 5\\nSkipping line 110465: expected 2 fields, saw 5\\nSkipping line 113843: expected 2 fields, saw 5\\nSkipping line 115634: expected 2 fields, saw 5\\nSkipping line 121518: expected 2 fields, saw 5\\nSkipping line 123692: expected 2 fields, saw 5\\nSkipping line 124708: expected 2 fields, saw 5\\nSkipping line 129608: expected 2 fields, saw 5\\nSkipping line 133176: expected 2 fields, saw 5\\nSkipping line 135532: expected 2 fields, saw 5\\nSkipping line 138042: expected 2 fields, saw 5\\nSkipping line 139485: expected 2 fields, saw 5\\nSkipping line 140401: expected 2 fields, saw 5\\nSkipping line 144093: expected 2 fields, saw 5\\nSkipping line 149850: expected 2 fields, saw 5\\nSkipping line 151831: expected 2 fields, saw 5\\nSkipping line 158014: expected 2 fields, saw 5\\nSkipping line 162047: expected 2 fields, saw 5\\nSkipping line 164515: expected 2 fields, saw 5\\nSkipping line 170313: expected 2 fields, saw 5\\nSkipping line 171325: expected 2 fields, saw 5\\nSkipping line 171424: expected 2 fields, saw 5\\nSkipping line 175920: expected 2 fields, saw 5\\nSkipping line 176210: expected 2 fields, saw 5\\nSkipping line 183603: expected 2 fields, saw 5\\nSkipping line 190264: expected 2 fields, saw 5\\nSkipping line 191683: expected 2 fields, saw 5\\nSkipping line 191988: expected 2 fields, saw 5\\nSkipping line 195450: expected 2 fields, saw 5\\nSkipping line 195754: expected 2 fields, saw 5\\nSkipping line 197124: expected 2 fields, saw 5\\nSkipping line 199263: expected 2 fields, saw 5\\nSkipping line 202603: expected 2 fields, saw 5\\nSkipping line 209960: expected 2 fields, saw 5\\nSkipping line 213218: expected 2 fields, saw 5\\nSkipping line 217060: expected 2 fields, saw 5\\nSkipping line 220121: expected 2 fields, saw 5\\nSkipping line 223518: expected 2 fields, saw 5\\nSkipping line 226293: expected 2 fields, saw 5\\nSkipping line 227035: expected 2 fields, saw 7\\nSkipping line 227341: expected 2 fields, saw 5\\nSkipping line 227808: expected 2 fields, saw 5\\nSkipping line 228516: expected 2 fields, saw 5\\nSkipping line 228733: expected 2 fields, saw 5\\nSkipping line 232043: expected 2 fields, saw 5\\nSkipping line 232426: expected 2 fields, saw 5\\nSkipping line 234490: expected 2 fields, saw 5\\nSkipping line 239626: expected 2 fields, saw 5\\nSkipping line 240461: expected 2 fields, saw 5\\nSkipping line 244518: expected 2 fields, saw 5\\nSkipping line 245395: expected 2 fields, saw 5\\nSkipping line 246168: expected 2 fields, saw 5\\nSkipping line 246655: expected 2 fields, saw 5\\nSkipping line 246752: expected 2 fields, saw 5\\nSkipping line 247189: expected 2 fields, saw 5\\nSkipping line 250276: expected 2 fields, saw 5\\nSkipping line 255327: expected 2 fields, saw 5\\nSkipping line 257094: expected 2 fields, saw 5\\n'\n",
      "b'Skipping line 264626: expected 2 fields, saw 5\\nSkipping line 265028: expected 2 fields, saw 5\\nSkipping line 269150: expected 2 fields, saw 5\\nSkipping line 271360: expected 2 fields, saw 5\\nSkipping line 273975: expected 2 fields, saw 5\\nSkipping line 274742: expected 2 fields, saw 5\\nSkipping line 276227: expected 2 fields, saw 5\\nSkipping line 279807: expected 2 fields, saw 5\\nSkipping line 283425: expected 2 fields, saw 5\\nSkipping line 287468: expected 2 fields, saw 5\\nSkipping line 292995: expected 2 fields, saw 5\\nSkipping line 293496: expected 2 fields, saw 5\\nSkipping line 293735: expected 2 fields, saw 5\\nSkipping line 295060: expected 2 fields, saw 5\\nSkipping line 296643: expected 2 fields, saw 5\\nSkipping line 296848: expected 2 fields, saw 5\\nSkipping line 308926: expected 2 fields, saw 5\\nSkipping line 310360: expected 2 fields, saw 5\\nSkipping line 317004: expected 2 fields, saw 5\\nSkipping line 318207: expected 2 fields, saw 5\\nSkipping line 331783: expected 2 fields, saw 5\\nSkipping line 333864: expected 2 fields, saw 5\\nSkipping line 335958: expected 2 fields, saw 5\\nSkipping line 336290: expected 2 fields, saw 5\\nSkipping line 343526: expected 2 fields, saw 5\\nSkipping line 343857: expected 2 fields, saw 5\\nSkipping line 344059: expected 2 fields, saw 5\\nSkipping line 348691: expected 2 fields, saw 5\\nSkipping line 353446: expected 2 fields, saw 5\\nSkipping line 357073: expected 2 fields, saw 5\\nSkipping line 359753: expected 2 fields, saw 5\\nSkipping line 359974: expected 2 fields, saw 5\\nSkipping line 366534: expected 2 fields, saw 5\\nSkipping line 369514: expected 2 fields, saw 5\\nSkipping line 377759: expected 2 fields, saw 5\\nSkipping line 379327: expected 2 fields, saw 5\\nSkipping line 380769: expected 2 fields, saw 5\\nSkipping line 381073: expected 2 fields, saw 5\\nSkipping line 381489: expected 2 fields, saw 5\\nSkipping line 386304: expected 2 fields, saw 5\\nSkipping line 387635: expected 2 fields, saw 5\\nSkipping line 389613: expected 2 fields, saw 5\\nSkipping line 392604: expected 2 fields, saw 5\\nSkipping line 393184: expected 2 fields, saw 5\\nSkipping line 395530: expected 2 fields, saw 5\\nSkipping line 396939: expected 2 fields, saw 5\\nSkipping line 397385: expected 2 fields, saw 5\\nSkipping line 397509: expected 2 fields, saw 5\\nSkipping line 402902: expected 2 fields, saw 5\\nSkipping line 405187: expected 2 fields, saw 5\\nSkipping line 408412: expected 2 fields, saw 5\\nSkipping line 419423: expected 2 fields, saw 5\\nSkipping line 420962: expected 2 fields, saw 5\\nSkipping line 425965: expected 2 fields, saw 5\\nSkipping line 427496: expected 2 fields, saw 5\\nSkipping line 438881: expected 2 fields, saw 5\\nSkipping line 439776: expected 2 fields, saw 5\\nSkipping line 440345: expected 2 fields, saw 5\\nSkipping line 445507: expected 2 fields, saw 5\\nSkipping line 445548: expected 2 fields, saw 5\\nSkipping line 447184: expected 2 fields, saw 5\\nSkipping line 448603: expected 2 fields, saw 5\\nSkipping line 451732: expected 2 fields, saw 5\\nSkipping line 458249: expected 2 fields, saw 5\\nSkipping line 460274: expected 2 fields, saw 5\\nSkipping line 467630: expected 2 fields, saw 5\\nSkipping line 473961: expected 2 fields, saw 5\\nSkipping line 476281: expected 2 fields, saw 5\\nSkipping line 478010: expected 2 fields, saw 5\\nSkipping line 478322: expected 2 fields, saw 5\\nSkipping line 479999: expected 2 fields, saw 5\\nSkipping line 480898: expected 2 fields, saw 5\\nSkipping line 481688: expected 2 fields, saw 5\\nSkipping line 485193: expected 2 fields, saw 5\\nSkipping line 485519: expected 2 fields, saw 5\\nSkipping line 486000: expected 2 fields, saw 5\\nSkipping line 489063: expected 2 fields, saw 5\\nSkipping line 494525: expected 2 fields, saw 5\\nSkipping line 495009: expected 2 fields, saw 5\\nSkipping line 501954: expected 2 fields, saw 5\\nSkipping line 508035: expected 2 fields, saw 5\\nSkipping line 508828: expected 2 fields, saw 5\\nSkipping line 509833: expected 2 fields, saw 5\\nSkipping line 510410: expected 2 fields, saw 5\\nSkipping line 518229: expected 2 fields, saw 5\\nSkipping line 520302: expected 2 fields, saw 5\\nSkipping line 520340: expected 2 fields, saw 5\\n'\n",
      "b'Skipping line 525174: expected 2 fields, saw 5\\nSkipping line 526251: expected 2 fields, saw 5\\nSkipping line 529611: expected 2 fields, saw 5\\nSkipping line 531398: expected 2 fields, saw 5\\nSkipping line 534146: expected 2 fields, saw 5\\nSkipping line 544954: expected 2 fields, saw 5\\nSkipping line 553002: expected 2 fields, saw 5\\nSkipping line 553883: expected 2 fields, saw 5\\nSkipping line 553887: expected 2 fields, saw 5\\nSkipping line 553915: expected 2 fields, saw 5\\nSkipping line 554172: expected 2 fields, saw 5\\nSkipping line 563534: expected 2 fields, saw 5\\nSkipping line 565191: expected 2 fields, saw 5\\nSkipping line 574108: expected 2 fields, saw 5\\nSkipping line 574412: expected 2 fields, saw 5\\nSkipping line 575985: expected 2 fields, saw 5\\nSkipping line 580091: expected 2 fields, saw 5\\nSkipping line 582682: expected 2 fields, saw 5\\nSkipping line 585885: expected 2 fields, saw 5\\nSkipping line 590171: expected 2 fields, saw 5\\nSkipping line 591924: expected 2 fields, saw 5\\nSkipping line 592515: expected 2 fields, saw 5\\nSkipping line 593888: expected 2 fields, saw 5\\nSkipping line 596245: expected 2 fields, saw 5\\nSkipping line 607344: expected 2 fields, saw 5\\nSkipping line 607633: expected 2 fields, saw 5\\nSkipping line 610939: expected 2 fields, saw 5\\nSkipping line 613638: expected 2 fields, saw 5\\nSkipping line 615643: expected 2 fields, saw 5\\nSkipping line 615901: expected 2 fields, saw 5\\nSkipping line 617389: expected 2 fields, saw 5\\nSkipping line 634641: expected 2 fields, saw 5\\nSkipping line 635755: expected 2 fields, saw 5\\nSkipping line 646243: expected 2 fields, saw 5\\nSkipping line 647165: expected 2 fields, saw 5\\nSkipping line 648610: expected 2 fields, saw 5\\nSkipping line 648772: expected 2 fields, saw 5\\nSkipping line 651833: expected 2 fields, saw 5\\nSkipping line 653663: expected 2 fields, saw 5\\nSkipping line 656233: expected 2 fields, saw 5\\nSkipping line 656694: expected 2 fields, saw 5\\nSkipping line 659783: expected 2 fields, saw 5\\nSkipping line 660478: expected 2 fields, saw 5\\nSkipping line 661133: expected 2 fields, saw 5\\nSkipping line 661736: expected 2 fields, saw 5\\nSkipping line 669827: expected 2 fields, saw 5\\n'\n"
     ]
    }
   ],
   "source": [
    "import warnings\n",
    "warnings.filterwarnings(\"ignore\", category=DeprecationWarning)\n",
    "pswd_data = pd.read_csv(r\"C:\\Users\\PunithaGnanathesigan\\Desktop\\Library\\SSS Project\\data.csv\", error_bad_lines=False)\n"
   ]
  },
  {
   "cell_type": "code",
   "execution_count": 80,
   "id": "94c55ad4",
   "metadata": {},
   "outputs": [
    {
     "data": {
      "text/html": [
       "<div>\n",
       "<style scoped>\n",
       "    .dataframe tbody tr th:only-of-type {\n",
       "        vertical-align: middle;\n",
       "    }\n",
       "\n",
       "    .dataframe tbody tr th {\n",
       "        vertical-align: top;\n",
       "    }\n",
       "\n",
       "    .dataframe thead th {\n",
       "        text-align: right;\n",
       "    }\n",
       "</style>\n",
       "<table border=\"1\" class=\"dataframe\">\n",
       "  <thead>\n",
       "    <tr style=\"text-align: right;\">\n",
       "      <th></th>\n",
       "      <th>password</th>\n",
       "      <th>strength</th>\n",
       "    </tr>\n",
       "  </thead>\n",
       "  <tbody>\n",
       "    <tr>\n",
       "      <th>642298</th>\n",
       "      <td>kd36pkv</td>\n",
       "      <td>0</td>\n",
       "    </tr>\n",
       "    <tr>\n",
       "      <th>447227</th>\n",
       "      <td>hCzRckbWx7GUQkEY</td>\n",
       "      <td>2</td>\n",
       "    </tr>\n",
       "    <tr>\n",
       "      <th>80415</th>\n",
       "      <td>213360fe</td>\n",
       "      <td>1</td>\n",
       "    </tr>\n",
       "    <tr>\n",
       "      <th>232965</th>\n",
       "      <td>descadz12</td>\n",
       "      <td>1</td>\n",
       "    </tr>\n",
       "    <tr>\n",
       "      <th>367692</th>\n",
       "      <td>qwaszxcv1</td>\n",
       "      <td>1</td>\n",
       "    </tr>\n",
       "    <tr>\n",
       "      <th>260679</th>\n",
       "      <td>lcopb3</td>\n",
       "      <td>0</td>\n",
       "    </tr>\n",
       "    <tr>\n",
       "      <th>574369</th>\n",
       "      <td>paradize0</td>\n",
       "      <td>1</td>\n",
       "    </tr>\n",
       "    <tr>\n",
       "      <th>579935</th>\n",
       "      <td>wsmwow122333</td>\n",
       "      <td>1</td>\n",
       "    </tr>\n",
       "    <tr>\n",
       "      <th>357529</th>\n",
       "      <td>gembul767</td>\n",
       "      <td>1</td>\n",
       "    </tr>\n",
       "    <tr>\n",
       "      <th>612229</th>\n",
       "      <td>swin.edu.au</td>\n",
       "      <td>1</td>\n",
       "    </tr>\n",
       "    <tr>\n",
       "      <th>78157</th>\n",
       "      <td>s2y615nt</td>\n",
       "      <td>1</td>\n",
       "    </tr>\n",
       "    <tr>\n",
       "      <th>168417</th>\n",
       "      <td>lmmaf8</td>\n",
       "      <td>0</td>\n",
       "    </tr>\n",
       "    <tr>\n",
       "      <th>234983</th>\n",
       "      <td>damirmumi82</td>\n",
       "      <td>1</td>\n",
       "    </tr>\n",
       "    <tr>\n",
       "      <th>436348</th>\n",
       "      <td>e5zsvct</td>\n",
       "      <td>0</td>\n",
       "    </tr>\n",
       "    <tr>\n",
       "      <th>484235</th>\n",
       "      <td>gfdrmhna2</td>\n",
       "      <td>1</td>\n",
       "    </tr>\n",
       "    <tr>\n",
       "      <th>473118</th>\n",
       "      <td>pvxh2ko</td>\n",
       "      <td>0</td>\n",
       "    </tr>\n",
       "    <tr>\n",
       "      <th>399323</th>\n",
       "      <td>pvvmrmTc0NQs3vR2</td>\n",
       "      <td>2</td>\n",
       "    </tr>\n",
       "    <tr>\n",
       "      <th>618260</th>\n",
       "      <td>oDVmO2TQ3MQbnaYj</td>\n",
       "      <td>2</td>\n",
       "    </tr>\n",
       "    <tr>\n",
       "      <th>210068</th>\n",
       "      <td>j04124199806alberto*</td>\n",
       "      <td>2</td>\n",
       "    </tr>\n",
       "    <tr>\n",
       "      <th>189565</th>\n",
       "      <td>power7011</td>\n",
       "      <td>1</td>\n",
       "    </tr>\n",
       "    <tr>\n",
       "      <th>646704</th>\n",
       "      <td>59334499a</td>\n",
       "      <td>1</td>\n",
       "    </tr>\n",
       "    <tr>\n",
       "      <th>610470</th>\n",
       "      <td>8888a6666</td>\n",
       "      <td>1</td>\n",
       "    </tr>\n",
       "    <tr>\n",
       "      <th>139849</th>\n",
       "      <td>gprr2310</td>\n",
       "      <td>1</td>\n",
       "    </tr>\n",
       "    <tr>\n",
       "      <th>530799</th>\n",
       "      <td>xolone651</td>\n",
       "      <td>1</td>\n",
       "    </tr>\n",
       "    <tr>\n",
       "      <th>211192</th>\n",
       "      <td>tarakancik84</td>\n",
       "      <td>1</td>\n",
       "    </tr>\n",
       "    <tr>\n",
       "      <th>582770</th>\n",
       "      <td>tricklover91</td>\n",
       "      <td>1</td>\n",
       "    </tr>\n",
       "    <tr>\n",
       "      <th>260160</th>\n",
       "      <td>7411592660ss</td>\n",
       "      <td>1</td>\n",
       "    </tr>\n",
       "    <tr>\n",
       "      <th>539944</th>\n",
       "      <td>vlada.polushina0U</td>\n",
       "      <td>2</td>\n",
       "    </tr>\n",
       "    <tr>\n",
       "      <th>364527</th>\n",
       "      <td>cr7sok</td>\n",
       "      <td>0</td>\n",
       "    </tr>\n",
       "    <tr>\n",
       "      <th>460145</th>\n",
       "      <td>cse12345</td>\n",
       "      <td>1</td>\n",
       "    </tr>\n",
       "    <tr>\n",
       "      <th>632118</th>\n",
       "      <td>qaqa1234</td>\n",
       "      <td>1</td>\n",
       "    </tr>\n",
       "    <tr>\n",
       "      <th>474260</th>\n",
       "      <td>mauro11</td>\n",
       "      <td>0</td>\n",
       "    </tr>\n",
       "    <tr>\n",
       "      <th>103653</th>\n",
       "      <td>18uo87dm</td>\n",
       "      <td>1</td>\n",
       "    </tr>\n",
       "    <tr>\n",
       "      <th>88663</th>\n",
       "      <td>dreams1</td>\n",
       "      <td>0</td>\n",
       "    </tr>\n",
       "  </tbody>\n",
       "</table>\n",
       "</div>"
      ],
      "text/plain": [
       "                    password  strength\n",
       "642298               kd36pkv         0\n",
       "447227      hCzRckbWx7GUQkEY         2\n",
       "80415               213360fe         1\n",
       "232965             descadz12         1\n",
       "367692             qwaszxcv1         1\n",
       "260679                lcopb3         0\n",
       "574369             paradize0         1\n",
       "579935          wsmwow122333         1\n",
       "357529             gembul767         1\n",
       "612229           swin.edu.au         1\n",
       "78157               s2y615nt         1\n",
       "168417                lmmaf8         0\n",
       "234983           damirmumi82         1\n",
       "436348               e5zsvct         0\n",
       "484235             gfdrmhna2         1\n",
       "473118               pvxh2ko         0\n",
       "399323      pvvmrmTc0NQs3vR2         2\n",
       "618260      oDVmO2TQ3MQbnaYj         2\n",
       "210068  j04124199806alberto*         2\n",
       "189565             power7011         1\n",
       "646704             59334499a         1\n",
       "610470             8888a6666         1\n",
       "139849              gprr2310         1\n",
       "530799             xolone651         1\n",
       "211192          tarakancik84         1\n",
       "582770          tricklover91         1\n",
       "260160          7411592660ss         1\n",
       "539944     vlada.polushina0U         2\n",
       "364527                cr7sok         0\n",
       "460145              cse12345         1\n",
       "632118              qaqa1234         1\n",
       "474260               mauro11         0\n",
       "103653              18uo87dm         1\n",
       "88663                dreams1         0"
      ]
     },
     "execution_count": 80,
     "metadata": {},
     "output_type": "execute_result"
    }
   ],
   "source": [
    "pswd_data.head(34)"
   ]
  },
  {
   "cell_type": "code",
   "execution_count": 4,
   "id": "89b19191",
   "metadata": {},
   "outputs": [
    {
     "data": {
      "text/plain": [
       "array([1, 2, 0], dtype=int64)"
      ]
     },
     "execution_count": 4,
     "metadata": {},
     "output_type": "execute_result"
    }
   ],
   "source": [
    "#diffirent classes in strength class\n",
    "pswd_data['strength'].unique()"
   ]
  },
  {
   "cell_type": "code",
   "execution_count": 5,
   "id": "e53dd6ff",
   "metadata": {},
   "outputs": [],
   "source": [
    "pswd_data = pswd_data.sample(n=20000)"
   ]
  },
  {
   "cell_type": "code",
   "execution_count": 6,
   "id": "59950a0b",
   "metadata": {},
   "outputs": [
    {
     "data": {
      "text/plain": [
       "(20000, 2)"
      ]
     },
     "execution_count": 6,
     "metadata": {},
     "output_type": "execute_result"
    }
   ],
   "source": [
    "pswd_data.shape"
   ]
  },
  {
   "cell_type": "code",
   "execution_count": 7,
   "id": "29386fc9",
   "metadata": {},
   "outputs": [
    {
     "data": {
      "text/plain": [
       "1    14908\n",
       "0     2674\n",
       "2     2418\n",
       "Name: strength, dtype: int64"
      ]
     },
     "execution_count": 7,
     "metadata": {},
     "output_type": "execute_result"
    }
   ],
   "source": [
    "pswd_data.strength.value_counts()"
   ]
  },
  {
   "cell_type": "markdown",
   "id": "30ddaded",
   "metadata": {},
   "source": [
    "## Checking missing values"
   ]
  },
  {
   "cell_type": "code",
   "execution_count": 8,
   "id": "48dd9890",
   "metadata": {},
   "outputs": [
    {
     "data": {
      "text/plain": [
       "password    0\n",
       "strength    0\n",
       "dtype: int64"
      ]
     },
     "execution_count": 8,
     "metadata": {},
     "output_type": "execute_result"
    }
   ],
   "source": [
    "pswd_data.isna().sum()"
   ]
  },
  {
   "cell_type": "code",
   "execution_count": 9,
   "id": "47b12e7d",
   "metadata": {},
   "outputs": [
    {
     "data": {
      "text/plain": [
       "(20000, 2)"
      ]
     },
     "execution_count": 9,
     "metadata": {},
     "output_type": "execute_result"
    }
   ],
   "source": [
    "pswd_data.shape"
   ]
  },
  {
   "cell_type": "markdown",
   "id": "9b14b5aa",
   "metadata": {},
   "source": [
    "## Removing missing values"
   ]
  },
  {
   "cell_type": "code",
   "execution_count": 10,
   "id": "692d623c",
   "metadata": {},
   "outputs": [],
   "source": [
    "pswd_data.dropna(inplace=True)"
   ]
  },
  {
   "cell_type": "markdown",
   "id": "6a8d6f84",
   "metadata": {},
   "source": [
    "## Checking whether missing values removed or not"
   ]
  },
  {
   "cell_type": "code",
   "execution_count": 11,
   "id": "375de0e5",
   "metadata": {},
   "outputs": [
    {
     "data": {
      "text/plain": [
       "password    0\n",
       "strength    0\n",
       "dtype: int64"
      ]
     },
     "execution_count": 11,
     "metadata": {},
     "output_type": "execute_result"
    }
   ],
   "source": [
    "pswd_data.isna().sum()"
   ]
  },
  {
   "cell_type": "markdown",
   "id": "10fc9e81",
   "metadata": {},
   "source": [
    "## Convert dataset into array"
   ]
  },
  {
   "cell_type": "code",
   "execution_count": 12,
   "id": "187f4808",
   "metadata": {},
   "outputs": [],
   "source": [
    "pswd = np.array(pswd_data)"
   ]
  },
  {
   "cell_type": "code",
   "execution_count": 13,
   "id": "5500506c",
   "metadata": {},
   "outputs": [
    {
     "data": {
      "text/plain": [
       "array([['kd36pkv', 0],\n",
       "       ['hCzRckbWx7GUQkEY', 2],\n",
       "       ['213360fe', 1],\n",
       "       ...,\n",
       "       ['qCWrSEzA4MA7YodL', 2],\n",
       "       ['sergio013', 1],\n",
       "       ['pokies68', 1]], dtype=object)"
      ]
     },
     "execution_count": 13,
     "metadata": {},
     "output_type": "execute_result"
    }
   ],
   "source": [
    "pswd"
   ]
  },
  {
   "cell_type": "markdown",
   "id": "d367a40a",
   "metadata": {},
   "source": [
    "## Dataset shuffling"
   ]
  },
  {
   "cell_type": "code",
   "execution_count": 14,
   "id": "9255d24a",
   "metadata": {},
   "outputs": [],
   "source": [
    "import random"
   ]
  },
  {
   "cell_type": "code",
   "execution_count": 15,
   "id": "4b76fa6d",
   "metadata": {},
   "outputs": [],
   "source": [
    "random.shuffle(pswd)"
   ]
  },
  {
   "cell_type": "markdown",
   "id": "48f8e485",
   "metadata": {},
   "source": [
    "## Adding features and labels"
   ]
  },
  {
   "cell_type": "code",
   "execution_count": 16,
   "id": "36697512",
   "metadata": {},
   "outputs": [],
   "source": [
    "ylabels  = [s[1] for s in pswd]\n",
    "allpasswords = [s[0] for s in pswd]"
   ]
  },
  {
   "cell_type": "code",
   "execution_count": 17,
   "id": "8c48b953",
   "metadata": {},
   "outputs": [
    {
     "data": {
      "text/plain": [
       "20000"
      ]
     },
     "execution_count": 17,
     "metadata": {},
     "output_type": "execute_result"
    }
   ],
   "source": [
    "len(ylabels)  #checking length of labels"
   ]
  },
  {
   "cell_type": "code",
   "execution_count": 18,
   "id": "78b106c0",
   "metadata": {},
   "outputs": [
    {
     "data": {
      "text/plain": [
       "20000"
      ]
     },
     "execution_count": 18,
     "metadata": {},
     "output_type": "execute_result"
    }
   ],
   "source": [
    "len(allpasswords)   #Checking length of allpasswords"
   ]
  },
  {
   "cell_type": "code",
   "execution_count": 19,
   "id": "7bccfd22",
   "metadata": {},
   "outputs": [
    {
     "data": {
      "text/plain": [
       "<seaborn.axisgrid.FacetGrid at 0x2504cfeb4c0>"
      ]
     },
     "execution_count": 19,
     "metadata": {},
     "output_type": "execute_result"
    },
    {
     "data": {
      "image/png": "[encoded data removed]",
      "text/plain": [
       "<Figure size 360x360 with 1 Axes>"
      ]
     },
     "metadata": {
      "needs_background": "light"
     },
     "output_type": "display_data"
    }
   ],
   "source": [
    "# Distribution of ylabel\n",
    "sns.displot(pswd_data, x=\"strength\",kind=\"kde\")"
   ]
  },
  {
   "cell_type": "markdown",
   "id": "1fa232bc",
   "metadata": {},
   "source": [
    "## Implementing tokenization"
   ]
  },
  {
   "cell_type": "code",
   "execution_count": 20,
   "id": "ecfce4d1",
   "metadata": {},
   "outputs": [],
   "source": [
    "def createTokens(f):\n",
    "    \n",
    "    tokens = []\n",
    "    for i in f:\n",
    "        tokens.append(i)\n",
    "    return tokens"
   ]
  },
  {
   "cell_type": "markdown",
   "id": "9b00fa2b",
   "metadata": {},
   "source": [
    "## Converting word tokens into numerical data"
   ]
  },
  {
   "cell_type": "code",
   "execution_count": 21,
   "id": "299ebf81",
   "metadata": {},
   "outputs": [],
   "source": [
    "from sklearn.feature_extraction.text import TfidfVectorizer"
   ]
  },
  {
   "cell_type": "markdown",
   "id": "7949fb92",
   "metadata": {},
   "source": [
    "## Initializing CountVectorizer"
   ]
  },
  {
   "cell_type": "code",
   "execution_count": 22,
   "id": "477d54eb",
   "metadata": {},
   "outputs": [],
   "source": [
    "from sklearn.feature_extraction.text import CountVectorizer\n",
    "vectorizer_state = CountVectorizer()"
   ]
  },
  {
   "cell_type": "code",
   "execution_count": 23,
   "id": "c61ecef7",
   "metadata": {},
   "outputs": [],
   "source": [
    "#allpasswords = np.array(allpasswords).reshape(-1,1)"
   ]
  },
  {
   "cell_type": "code",
   "execution_count": 37,
   "id": "7b6bcf90",
   "metadata": {},
   "outputs": [
    {
     "data": {
      "text/plain": [
       "list"
      ]
     },
     "execution_count": 37,
     "metadata": {},
     "output_type": "execute_result"
    }
   ],
   "source": [
    "type(allpasswords)"
   ]
  },
  {
   "cell_type": "code",
   "execution_count": 24,
   "id": "36f2617f",
   "metadata": {},
   "outputs": [],
   "source": [
    "X = vectorizer_state.fit_transform(allpasswords)"
   ]
  },
  {
   "cell_type": "markdown",
   "id": "673a11ab",
   "metadata": {},
   "source": [
    "### PCA"
   ]
  },
  {
   "cell_type": "code",
   "execution_count": 25,
   "id": "9ddc8836",
   "metadata": {},
   "outputs": [],
   "source": [
    "# from sklearn.decomposition import PCA\n",
    "# principal=PCA(n_components=2000)\n",
    "# principal.fit(X.todense())\n",
    "# X=principal.transform(X.todense())\n",
    " \n",
    "# # Check the dimensions of data after PCA\n",
    "# print(X.shape)"
   ]
  },
  {
   "cell_type": "markdown",
   "id": "65a5b7fb",
   "metadata": {},
   "source": [
    "## Splitting vectorized dataset"
   ]
  },
  {
   "cell_type": "code",
   "execution_count": 25,
   "id": "e1fab347",
   "metadata": {},
   "outputs": [],
   "source": [
    "from sklearn.model_selection import train_test_split\n",
    "X_train, X_test, y_train, y_test = train_test_split(X, ylabels, test_size=0.2, random_state=42)\n"
   ]
  },
  {
   "cell_type": "code",
   "execution_count": 26,
   "id": "599a5656",
   "metadata": {},
   "outputs": [
    {
     "name": "stdout",
     "output_type": "stream",
     "text": [
      "(16000, 10254) (4000, 10254)\n"
     ]
    }
   ],
   "source": [
    "print(X_train.shape, X_test.shape) #y_train.shape, y_test.shape)"
   ]
  },
  {
   "cell_type": "markdown",
   "id": "db89a688",
   "metadata": {},
   "source": [
    "## Building the models"
   ]
  },
  {
   "cell_type": "markdown",
   "id": "4f654d16",
   "metadata": {},
   "source": [
    "### 1.Decision Tree"
   ]
  },
  {
   "cell_type": "code",
   "execution_count": 28,
   "id": "d80b4830",
   "metadata": {},
   "outputs": [
    {
     "name": "stdout",
     "output_type": "stream",
     "text": [
      "Tuned Decision Tree Parameters: {'criterion': 'gini', 'max_depth': None, 'max_features': 8, 'min_samples_leaf': 2}\n",
      "Best score is 0.7465\n"
     ]
    }
   ],
   "source": [
    "from scipy.stats import randint\n",
    "from sklearn.tree import DecisionTreeClassifier\n",
    "from sklearn.model_selection import RandomizedSearchCV\n",
    "\n",
    "# Setup the parameters and distributions to sample from: param_dist\n",
    "param_dist = {\"max_depth\": [3, None],\n",
    "              \"max_features\": randint(1, 9),\n",
    "              \"min_samples_leaf\": randint(1, 9),\n",
    "              \"criterion\": [\"gini\", \"entropy\"]}\n",
    "\n",
    "# Instantiate a Decision Tree classifier: tree\n",
    "tree = DecisionTreeClassifier()\n",
    "\n",
    "# Instantiate the RandomizedSearchCV object: tree_cv\n",
    "tree_cv = RandomizedSearchCV(tree, param_dist, cv=5)\n",
    "\n",
    "# Fit it to the data\n",
    "tree_cv.fit(X_train, y_train)\n",
    "\n",
    "# Print the tuned parameters and score\n",
    "print(\"Tuned Decision Tree Parameters: {}\".format(tree_cv.best_params_))\n",
    "print(\"Best score is {}\".format(tree_cv.best_score_))"
   ]
  },
  {
   "cell_type": "code",
   "execution_count": 29,
   "id": "b2c2c851",
   "metadata": {},
   "outputs": [
    {
     "name": "stdout",
     "output_type": "stream",
     "text": [
      "0.746125\n",
      "0.75725\n"
     ]
    }
   ],
   "source": [
    "from sklearn.metrics import accuracy_score\n",
    "dect_model = DecisionTreeClassifier(criterion = 'gini', max_depth = 3, max_features = 1, min_samples_leaf = 2)\n",
    "dect_model.fit(X_train, y_train)\n",
    "y_test_pred_dect = dect_model.predict(X_test)\n",
    "y_train_pred_dect = dect_model.predict(X_train)\n",
    "print(accuracy_score(y_train, y_train_pred_dect))\n",
    "print(accuracy_score(y_test, y_test_pred_dect))"
   ]
  },
  {
   "cell_type": "code",
   "execution_count": 96,
   "id": "f5705cd6",
   "metadata": {},
   "outputs": [
    {
     "name": "stdout",
     "output_type": "stream",
     "text": [
      "              precision    recall  f1-score   support\n",
      "\n",
      "           0       0.00      0.00      0.00      2173\n",
      "           1       0.74      1.00      0.85     11775\n",
      "           2       0.00      0.00      0.00      2052\n",
      "\n",
      "    accuracy                           0.74     16000\n",
      "   macro avg       0.25      0.33      0.28     16000\n",
      "weighted avg       0.54      0.74      0.62     16000\n",
      "\n",
      "              precision    recall  f1-score   support\n",
      "\n",
      "           0       0.00      0.00      0.00       529\n",
      "           1       0.73      1.00      0.84      2926\n",
      "           2       0.00      0.00      0.00       545\n",
      "\n",
      "    accuracy                           0.73      4000\n",
      "   macro avg       0.24      0.33      0.28      4000\n",
      "weighted avg       0.54      0.73      0.62      4000\n",
      "\n"
     ]
    },
    {
     "name": "stderr",
     "output_type": "stream",
     "text": [
      "C:\\Users\\PunithaGnanathesigan\\anaconda3\\lib\\site-packages\\sklearn\\metrics\\_classification.py:1327: UndefinedMetricWarning: Precision and F-score are ill-defined and being set to 0.0 in labels with no predicted samples. Use `zero_division` parameter to control this behavior.\n",
      "  _warn_prf(average, modifier, msg_start, len(result))\n",
      "C:\\Users\\PunithaGnanathesigan\\anaconda3\\lib\\site-packages\\sklearn\\metrics\\_classification.py:1327: UndefinedMetricWarning: Precision and F-score are ill-defined and being set to 0.0 in labels with no predicted samples. Use `zero_division` parameter to control this behavior.\n",
      "  _warn_prf(average, modifier, msg_start, len(result))\n",
      "C:\\Users\\PunithaGnanathesigan\\anaconda3\\lib\\site-packages\\sklearn\\metrics\\_classification.py:1327: UndefinedMetricWarning: Precision and F-score are ill-defined and being set to 0.0 in labels with no predicted samples. Use `zero_division` parameter to control this behavior.\n",
      "  _warn_prf(average, modifier, msg_start, len(result))\n",
      "C:\\Users\\PunithaGnanathesigan\\anaconda3\\lib\\site-packages\\sklearn\\metrics\\_classification.py:1327: UndefinedMetricWarning: Precision and F-score are ill-defined and being set to 0.0 in labels with no predicted samples. Use `zero_division` parameter to control this behavior.\n",
      "  _warn_prf(average, modifier, msg_start, len(result))\n",
      "C:\\Users\\PunithaGnanathesigan\\anaconda3\\lib\\site-packages\\sklearn\\metrics\\_classification.py:1327: UndefinedMetricWarning: Precision and F-score are ill-defined and being set to 0.0 in labels with no predicted samples. Use `zero_division` parameter to control this behavior.\n",
      "  _warn_prf(average, modifier, msg_start, len(result))\n",
      "C:\\Users\\PunithaGnanathesigan\\anaconda3\\lib\\site-packages\\sklearn\\metrics\\_classification.py:1327: UndefinedMetricWarning: Precision and F-score are ill-defined and being set to 0.0 in labels with no predicted samples. Use `zero_division` parameter to control this behavior.\n",
      "  _warn_prf(average, modifier, msg_start, len(result))\n"
     ]
    }
   ],
   "source": [
    "# Classification report\n",
    "\n",
    "from sklearn.metrics import classification_report\n",
    "print(classification_report(y_train, y_train_pred_dect))\n",
    "print(classification_report(y_test, y_test_pred_dect))"
   ]
  },
  {
   "cell_type": "code",
   "execution_count": 97,
   "id": "084c54d8",
   "metadata": {
    "scrolled": true
   },
   "outputs": [
    {
     "data": {
      "text/plain": [
       "<AxesSubplot:>"
      ]
     },
     "execution_count": 97,
     "metadata": {},
     "output_type": "execute_result"
    },
    {
     "data": {
      "image/png": "[encoded data removed]",
      "text/plain": [
       "<Figure size 432x288 with 2 Axes>"
      ]
     },
     "metadata": {
      "needs_background": "light"
     },
     "output_type": "display_data"
    }
   ],
   "source": [
    "from sklearn.metrics import confusion_matrix\n",
    "import seaborn as sns\n",
    "sns.heatmap(confusion_matrix(y_test, y_test_pred_dect), annot=True, cmap='Blues', fmt='g')"
   ]
  },
  {
   "cell_type": "code",
   "execution_count": 171,
   "id": "b35eb529",
   "metadata": {},
   "outputs": [
    {
     "data": {
      "text/plain": [
       "0.5"
      ]
     },
     "execution_count": 171,
     "metadata": {},
     "output_type": "execute_result"
    }
   ],
   "source": [
    "# ROC-AUC score\n",
    "\n",
    "from sklearn.metrics import roc_auc_score\n",
    "roc_auc_score(y_score= dect_model.predict_proba(X_test), y_true= y_test, multi_class='ovr')"
   ]
  },
  {
   "cell_type": "code",
   "execution_count": 152,
   "id": "f5df7262",
   "metadata": {},
   "outputs": [
    {
     "data": {
      "text/plain": [
       "<matplotlib.legend.Legend at 0x23c82727490>"
      ]
     },
     "execution_count": 152,
     "metadata": {},
     "output_type": "execute_result"
    },
    {
     "data": {
      "image/png": "[encoded data removed]",
      "text/plain": [
       "<Figure size 432x288 with 1 Axes>"
      ]
     },
     "metadata": {
      "needs_background": "light"
     },
     "output_type": "display_data"
    }
   ],
   "source": [
    "# importing libraries\n",
    "# multi-class classification\n",
    "from sklearn.metrics import roc_curve\n",
    "from sklearn.metrics import roc_auc_score\n",
    "import matplotlib.pyplot as plt\n",
    "\n",
    "pred_prob = dect_model.predict_proba(X_test)\n",
    "\n",
    "# roc curve for classes\n",
    "fpr = {}\n",
    "tpr = {}\n",
    "thresh ={}\n",
    "\n",
    "n_class = 3\n",
    "\n",
    "for i in range(n_class):    \n",
    "    fpr[i], tpr[i], thresh[i] = roc_curve(y_test, pred_prob[:,i], pos_label=i)\n",
    "    \n",
    "# plotting    \n",
    "plt.plot(fpr[0], tpr[0], linestyle='--',color='orange', label='Class 0')\n",
    "plt.plot(fpr[1], tpr[1], linestyle='--',color='green', label='Class 1')\n",
    "plt.plot(fpr[2], tpr[2], linestyle='--',color='blue', label='Class 2')\n",
    "plt.title('Multiclass ROC curve')\n",
    "plt.xlabel('False Positive Rate')\n",
    "plt.ylabel('True Positive rate')\n",
    "plt.legend(loc='best')\n",
    "# plt.savefig('Multiclass ROC',dpi=300)"
   ]
  },
  {
   "cell_type": "markdown",
   "id": "1b97ee7f",
   "metadata": {},
   "source": [
    "### MLPClassifier"
   ]
  },
  {
   "cell_type": "code",
   "execution_count": 35,
   "id": "2f0c050c",
   "metadata": {},
   "outputs": [
    {
     "name": "stdout",
     "output_type": "stream",
     "text": [
      "Tuned MLPClassifier Parameters: hidden_layer_sizes=(6,5), random_state=5, verbose=True, learning_rate='adaptive', activation='relu', solver='adam', alpha=0.05\n"
     ]
    }
   ],
   "source": [
    "from sklearn.neural_network import MLPClassifier\n",
    "mlp = MLPClassifier(max_iter=100)\n",
    "parameter_space = {\n",
    "    'hidden_layer_sizes': [(50,50,50), (50,100,50), (100,)],\n",
    "    'activation': ['tanh', 'relu'],\n",
    "    'solver': ['sgd', 'adam'],\n",
    "    'alpha': [0.0001, 0.05],\n",
    "    'learning_rate': ['constant','adaptive'],\n",
    "}\n",
    "from sklearn.model_selection import GridSearchCV\n",
    "\n",
    "clf = GridSearchCV(mlp, parameter_space, n_jobs=-1, cv=3)\n",
    "clf.fit(X_train, y_train)\n",
    "\n",
    "#print the tuned parameters\n",
    "print(\"Tuned MLPClassifier Parameters: {}\".format(clf.best_params_))\n",
    "print(\"Best score is {}\".format(clf.best_score_))\n",
    "\n",
    "\n"
   ]
  },
  {
   "cell_type": "code",
   "execution_count": 57,
   "id": "76973ae2",
   "metadata": {
    "scrolled": true
   },
   "outputs": [
    {
     "name": "stdout",
     "output_type": "stream",
     "text": [
      "Iteration 1, loss = 0.86845753\n",
      "Iteration 2, loss = 0.77395976\n",
      "Iteration 3, loss = 0.71959089\n",
      "Iteration 4, loss = 0.66722195\n",
      "Iteration 5, loss = 0.57583023\n",
      "Iteration 6, loss = 0.46387411\n",
      "Iteration 7, loss = 0.37138208\n",
      "Iteration 8, loss = 0.31250660\n",
      "Iteration 9, loss = 0.27881346\n",
      "Iteration 10, loss = 0.25891824\n",
      "Iteration 11, loss = 0.24600791\n",
      "Iteration 12, loss = 0.23631345\n",
      "Iteration 13, loss = 0.22802183\n",
      "Iteration 14, loss = 0.22004271\n",
      "Iteration 15, loss = 0.21145337\n",
      "Iteration 16, loss = 0.20193456\n",
      "Iteration 17, loss = 0.19101327\n",
      "Iteration 18, loss = 0.17849572\n",
      "Iteration 19, loss = 0.16439620\n",
      "Iteration 20, loss = 0.14948602\n",
      "Iteration 21, loss = 0.13457912\n",
      "Iteration 22, loss = 0.12066418\n",
      "Iteration 23, loss = 0.10838194\n",
      "Iteration 24, loss = 0.09798812\n",
      "Iteration 25, loss = 0.08940327\n",
      "Iteration 26, loss = 0.08244442\n",
      "Iteration 27, loss = 0.07675934\n",
      "Iteration 28, loss = 0.07212534\n",
      "Iteration 29, loss = 0.06825853\n",
      "Iteration 30, loss = 0.06510599\n",
      "Iteration 31, loss = 0.06239831\n",
      "Iteration 32, loss = 0.06006257\n",
      "Iteration 33, loss = 0.05800987\n",
      "Iteration 34, loss = 0.05616102\n",
      "Iteration 35, loss = 0.05454431\n",
      "Iteration 36, loss = 0.05307826\n",
      "Iteration 37, loss = 0.05177404\n",
      "Iteration 38, loss = 0.05063600\n",
      "Iteration 39, loss = 0.04962011\n",
      "Iteration 40, loss = 0.04865133\n",
      "Iteration 41, loss = 0.04783653\n",
      "Iteration 42, loss = 0.04704781\n",
      "Iteration 43, loss = 0.04631103\n",
      "Iteration 44, loss = 0.04563606\n",
      "Iteration 45, loss = 0.04506946\n",
      "Iteration 46, loss = 0.04442663\n",
      "Iteration 47, loss = 0.04389102\n",
      "Iteration 48, loss = 0.04339609\n",
      "Iteration 49, loss = 0.04290707\n",
      "Iteration 50, loss = 0.04242511\n",
      "Iteration 51, loss = 0.04204872\n",
      "Iteration 52, loss = 0.04159789\n",
      "Iteration 53, loss = 0.04124007\n",
      "Iteration 54, loss = 0.04083662\n",
      "Iteration 55, loss = 0.04048581\n",
      "Iteration 56, loss = 0.04017572\n",
      "Iteration 57, loss = 0.03985316\n",
      "Iteration 58, loss = 0.03955896\n",
      "Iteration 59, loss = 0.03929557\n",
      "Iteration 60, loss = 0.03906055\n",
      "Iteration 61, loss = 0.03881384\n",
      "Iteration 62, loss = 0.03857494\n",
      "Iteration 63, loss = 0.03833810\n",
      "Iteration 64, loss = 0.03811652\n",
      "Iteration 65, loss = 0.03792545\n",
      "Iteration 66, loss = 0.03774094\n",
      "Iteration 67, loss = 0.03754426\n",
      "Iteration 68, loss = 0.03740304\n",
      "Iteration 69, loss = 0.03728739\n",
      "Iteration 70, loss = 0.03710905\n",
      "Iteration 71, loss = 0.03696756\n",
      "Iteration 72, loss = 0.03681821\n",
      "Iteration 73, loss = 0.03671644\n",
      "Iteration 74, loss = 0.03658147\n",
      "Iteration 75, loss = 0.03655552\n",
      "Iteration 76, loss = 0.03640777\n",
      "Iteration 77, loss = 0.03633134\n",
      "Iteration 78, loss = 0.03621151\n",
      "Iteration 79, loss = 0.03615458\n",
      "Iteration 80, loss = 0.03607546\n",
      "Iteration 81, loss = 0.03599704\n",
      "Iteration 82, loss = 0.03592181\n",
      "Iteration 83, loss = 0.03586682\n",
      "Iteration 84, loss = 0.03581893\n",
      "Iteration 85, loss = 0.03570956\n",
      "Iteration 86, loss = 0.03578692\n",
      "Iteration 87, loss = 0.03567639\n",
      "Iteration 88, loss = 0.03562728\n",
      "Iteration 89, loss = 0.03554958\n",
      "Iteration 90, loss = 0.03556967\n",
      "Iteration 91, loss = 0.03551287\n",
      "Iteration 92, loss = 0.03552221\n",
      "Iteration 93, loss = 0.03555527\n",
      "Iteration 94, loss = 0.03542637\n",
      "Iteration 95, loss = 0.03543624\n",
      "Iteration 96, loss = 0.03539750\n",
      "Training loss did not improve more than tol=0.000100 for 10 consecutive epochs. Stopping.\n",
      "0.9996875\n",
      "0.924\n"
     ]
    }
   ],
   "source": [
    "# Create model object\n",
    "from sklearn.neural_network import MLPClassifier\n",
    "clf = MLPClassifier(hidden_layer_sizes=(6,5),\n",
    "                    random_state=5,\n",
    "                    verbose=True,\n",
    "                    learning_rate='adaptive',\n",
    "                    activation='relu',\n",
    "                    solver='adam',\n",
    "                    alpha=0.05)\n",
    "\n",
    "# Fit data onto the model\n",
    "clf.fit(X_train,y_train)\n",
    "y_test_pred_MLP = clf.predict(X_test)\n",
    "y_train_pred_MLP = clf.predict(X_train)\n",
    "print(accuracy_score(y_train, y_train_pred_MLP))\n",
    "print(accuracy_score(y_test, y_test_pred_MLP))"
   ]
  },
  {
   "cell_type": "code",
   "execution_count": 147,
   "id": "2827f64f",
   "metadata": {},
   "outputs": [
    {
     "name": "stdout",
     "output_type": "stream",
     "text": [
      "              precision    recall  f1-score   support\n",
      "\n",
      "           0       1.00      1.00      1.00      2173\n",
      "           1       1.00      1.00      1.00     11775\n",
      "           2       1.00      1.00      1.00      2052\n",
      "\n",
      "    accuracy                           1.00     16000\n",
      "   macro avg       1.00      1.00      1.00     16000\n",
      "weighted avg       1.00      1.00      1.00     16000\n",
      "\n",
      "              precision    recall  f1-score   support\n",
      "\n",
      "           0       1.00      0.69      0.81       529\n",
      "           1       0.90      1.00      0.95      2926\n",
      "           2       1.00      0.72      0.84       545\n",
      "\n",
      "    accuracy                           0.92      4000\n",
      "   macro avg       0.97      0.80      0.87      4000\n",
      "weighted avg       0.93      0.92      0.92      4000\n",
      "\n"
     ]
    }
   ],
   "source": [
    "# Classification report\n",
    "\n",
    "from sklearn.metrics import classification_report\n",
    "print(classification_report(y_train, y_train_pred_MLP))\n",
    "print(classification_report(y_test, y_test_pred_MLP))"
   ]
  },
  {
   "cell_type": "code",
   "execution_count": 148,
   "id": "1063c778",
   "metadata": {
    "scrolled": true
   },
   "outputs": [
    {
     "data": {
      "text/plain": [
       "<AxesSubplot:>"
      ]
     },
     "execution_count": 148,
     "metadata": {},
     "output_type": "execute_result"
    },
    {
     "data": {
      "image/png": "[encoded data removed]",
      "text/plain": [
       "<Figure size 432x288 with 2 Axes>"
      ]
     },
     "metadata": {
      "needs_background": "light"
     },
     "output_type": "display_data"
    }
   ],
   "source": [
    "from sklearn.metrics import confusion_matrix\n",
    "import seaborn as sns\n",
    "sns.heatmap(confusion_matrix(y_test, y_test_pred_MLP), annot=True, cmap='Blues', fmt='g')"
   ]
  },
  {
   "cell_type": "code",
   "execution_count": 169,
   "id": "4dbc5cb3",
   "metadata": {},
   "outputs": [
    {
     "data": {
      "text/plain": [
       "array([[1.32139307e-03, 9.97694764e-01, 9.83843418e-04],\n",
       "       [8.18627057e-04, 9.98553036e-01, 6.28336703e-04],\n",
       "       [3.72651636e-03, 4.61989468e-03, 9.91653589e-01],\n",
       "       ...,\n",
       "       [7.97055240e-04, 9.98658649e-01, 5.44295935e-04],\n",
       "       [7.07888890e-04, 9.98730416e-01, 5.61695131e-04],\n",
       "       [1.43692230e-02, 9.74441433e-01, 1.11893438e-02]])"
      ]
     },
     "execution_count": 169,
     "metadata": {},
     "output_type": "execute_result"
    }
   ],
   "source": [
    "clf.predict_proba(X_test)"
   ]
  },
  {
   "cell_type": "code",
   "execution_count": 172,
   "id": "2bb8f4fa",
   "metadata": {},
   "outputs": [
    {
     "data": {
      "text/plain": [
       "0.9545619720131171"
      ]
     },
     "execution_count": 172,
     "metadata": {},
     "output_type": "execute_result"
    }
   ],
   "source": [
    "# ROC-AUC curve\n",
    "\n",
    "from sklearn.metrics import roc_auc_score\n",
    "roc_auc_score(y_score= clf.predict_proba(X_test), y_true= y_test, multi_class='ovr')"
   ]
  },
  {
   "cell_type": "code",
   "execution_count": 149,
   "id": "1b6172f4",
   "metadata": {},
   "outputs": [
    {
     "data": {
      "text/plain": [
       "<matplotlib.legend.Legend at 0x23c82665550>"
      ]
     },
     "execution_count": 149,
     "metadata": {},
     "output_type": "execute_result"
    },
    {
     "data": {
      "image/png": "[encoded data removed]",
      "text/plain": [
       "<Figure size 432x288 with 1 Axes>"
      ]
     },
     "metadata": {
      "needs_background": "light"
     },
     "output_type": "display_data"
    }
   ],
   "source": [
    "# importing libraries\n",
    "# multi-class classification\n",
    "from sklearn.metrics import roc_curve\n",
    "from sklearn.metrics import roc_auc_score\n",
    "import matplotlib.pyplot as plt\n",
    "\n",
    "pred_prob = clf.predict_proba(X_test)\n",
    "\n",
    "# roc curve for classes\n",
    "fpr = {}\n",
    "tpr = {}\n",
    "thresh ={}\n",
    "\n",
    "n_class = 3\n",
    "\n",
    "for i in range(n_class):    \n",
    "    fpr[i], tpr[i], thresh[i] = roc_curve(y_test, pred_prob[:,i], pos_label=i)\n",
    "    \n",
    "# plotting    \n",
    "plt.plot(fpr[0], tpr[0], linestyle='--',color='orange', label='Class 0')\n",
    "plt.plot(fpr[1], tpr[1], linestyle='--',color='green', label='Class 1')\n",
    "plt.plot(fpr[2], tpr[2], linestyle='--',color='blue', label='Class 2')\n",
    "plt.title('Multiclass ROC curve')\n",
    "plt.xlabel('False Positive Rate')\n",
    "plt.ylabel('True Positive rate')\n",
    "plt.legend(loc='best')\n",
    "# plt.savefig('Multiclass ROC',dpi=300)"
   ]
  },
  {
   "cell_type": "markdown",
   "id": "0fd83934",
   "metadata": {},
   "source": [
    "### Naive bayes"
   ]
  },
  {
   "cell_type": "code",
   "execution_count": 31,
   "id": "8ac65821",
   "metadata": {},
   "outputs": [],
   "source": [
    "from sklearn.model_selection import GridSearchCV\n",
    "from sklearn.naive_bayes import GaussianNB\n",
    "\n",
    "nb_classifier = GaussianNB()\n",
    "\n",
    "params_NB = {'var_smoothing': np.logspace(0,-9, num=100)}\n",
    "gs_NB = GridSearchCV(estimator=nb_classifier, \n",
    "                 param_grid=params_NB,\n",
    "                 verbose=1, \n",
    "                 scoring='accuracy') \n",
    "gs_NB.fit(X_train.todense(), y_train)\n",
    "\n",
    "#print the tuned parameters\n",
    "print(\"Tuned MLPClassifier Parameters: {}\".format(gs_NB.best_params_))\n",
    "print(\"Best score is {}\".format(gs_NB.best_score_))\n",
    "\n"
   ]
  },
  {
   "cell_type": "code",
   "execution_count": 54,
   "id": "1ec290eb",
   "metadata": {},
   "outputs": [
    {
     "name": "stdout",
     "output_type": "stream",
     "text": [
      "0.9991875\n",
      "0.73075\n"
     ]
    }
   ],
   "source": [
    "from sklearn.naive_bayes import GaussianNB\n",
    "naive_model = GaussianNB()\n",
    "naive_model.fit(X_train.toarray(), y_train)\n",
    "y_test_pred_naive = naive_model.predict(X_test.toarray())\n",
    "y_train_pred_naive = naive_model.predict(X_train.toarray())\n",
    "print(accuracy_score(y_train, y_train_pred_naive))\n",
    "print(accuracy_score(y_test, y_test_pred_naive))"
   ]
  },
  {
   "cell_type": "code",
   "execution_count": 141,
   "id": "efed68c5",
   "metadata": {},
   "outputs": [
    {
     "name": "stdout",
     "output_type": "stream",
     "text": [
      "              precision    recall  f1-score   support\n",
      "\n",
      "           0       1.00      1.00      1.00      2173\n",
      "           1       1.00      1.00      1.00     11775\n",
      "           2       1.00      1.00      1.00      2052\n",
      "\n",
      "    accuracy                           1.00     16000\n",
      "   macro avg       1.00      1.00      1.00     16000\n",
      "weighted avg       1.00      1.00      1.00     16000\n",
      "\n",
      "              precision    recall  f1-score   support\n",
      "\n",
      "           0       0.33      1.00      0.50       529\n",
      "           1       1.00      0.69      0.82      2926\n",
      "           2       1.00      0.72      0.84       545\n",
      "\n",
      "    accuracy                           0.74      4000\n",
      "   macro avg       0.78      0.80      0.72      4000\n",
      "weighted avg       0.91      0.74      0.78      4000\n",
      "\n"
     ]
    }
   ],
   "source": [
    "# Classification report\n",
    "\n",
    "from sklearn.metrics import classification_report\n",
    "print(classification_report(y_train, y_train_pred_naive))\n",
    "print(classification_report(y_test, y_test_pred_naive))"
   ]
  },
  {
   "cell_type": "code",
   "execution_count": 142,
   "id": "9ee8f705",
   "metadata": {
    "scrolled": false
   },
   "outputs": [
    {
     "data": {
      "text/plain": [
       "<AxesSubplot:>"
      ]
     },
     "execution_count": 142,
     "metadata": {},
     "output_type": "execute_result"
    },
    {
     "data": {
      "image/png": "[encoded data removed]",
      "text/plain": [
       "<Figure size 432x288 with 2 Axes>"
      ]
     },
     "metadata": {
      "needs_background": "light"
     },
     "output_type": "display_data"
    }
   ],
   "source": [
    "from sklearn.metrics import confusion_matrix\n",
    "import seaborn as sns\n",
    "sns.heatmap(confusion_matrix(y_test, y_test_pred_naive), annot=True, cmap='Blues', fmt='g')"
   ]
  },
  {
   "cell_type": "code",
   "execution_count": 174,
   "id": "49d1899f",
   "metadata": {},
   "outputs": [
    {
     "data": {
      "text/plain": [
       "0.8848674322839543"
      ]
     },
     "execution_count": 174,
     "metadata": {},
     "output_type": "execute_result"
    }
   ],
   "source": [
    "# ROC-AUC score\n",
    "\n",
    "from sklearn.metrics import roc_auc_score\n",
    "roc_auc_score(y_score= naive_model.predict_proba(X_test.toarray()), y_true= y_test, multi_class='ovr')"
   ]
  },
  {
   "cell_type": "code",
   "execution_count": 144,
   "id": "2f8ee75d",
   "metadata": {},
   "outputs": [
    {
     "data": {
      "text/plain": [
       "<matplotlib.legend.Legend at 0x23c82544dc0>"
      ]
     },
     "execution_count": 144,
     "metadata": {},
     "output_type": "execute_result"
    },
    {
     "data": {
      "image/png": "[encoded data removed]",
      "text/plain": [
       "<Figure size 432x288 with 1 Axes>"
      ]
     },
     "metadata": {
      "needs_background": "light"
     },
     "output_type": "display_data"
    }
   ],
   "source": [
    "# importing libraries\n",
    "# multi-class classification\n",
    "from sklearn.metrics import roc_curve\n",
    "from sklearn.metrics import roc_auc_score\n",
    "import matplotlib.pyplot as plt\n",
    "\n",
    "pred_prob = naive_model.predict_proba(X_test.toarray())\n",
    "\n",
    "# roc curve for classes\n",
    "fpr = {}\n",
    "tpr = {}\n",
    "thresh ={}\n",
    "\n",
    "n_class = 3\n",
    "\n",
    "for i in range(n_class):    \n",
    "    fpr[i], tpr[i], thresh[i] = roc_curve(y_test, pred_prob[:,i], pos_label=i)\n",
    "    \n",
    "# plotting    \n",
    "plt.plot(fpr[0], tpr[0], linestyle='--',color='orange', label='Class 0')\n",
    "plt.plot(fpr[1], tpr[1], linestyle='--',color='green', label='Class 1')\n",
    "plt.plot(fpr[2], tpr[2], linestyle='--',color='blue', label='Class 2')\n",
    "plt.title('Multiclass ROC curve')\n",
    "plt.xlabel('False Positive Rate')\n",
    "plt.ylabel('True Positive rate')\n",
    "plt.legend(loc='best')\n",
    "# plt.savefig('Multiclass ROC',dpi=300)"
   ]
  },
  {
   "cell_type": "markdown",
   "id": "3a1e20fe",
   "metadata": {},
   "source": [
    "### Support Vector Machines(SVM)"
   ]
  },
  {
   "cell_type": "code",
   "execution_count": 30,
   "id": "968ad15e",
   "metadata": {},
   "outputs": [
    {
     "name": "stdout",
     "output_type": "stream",
     "text": [
      "Best: 0.916625 using {'C': 1.0, 'gamma': 'scale', 'kernel': 'rbf'}\n"
     ]
    }
   ],
   "source": [
    "from sklearn.model_selection import RepeatedStratifiedKFold\n",
    "from sklearn.model_selection import GridSearchCV\n",
    "from sklearn.svm import SVC\n",
    "\n",
    "# define model and parameters\n",
    "model = SVC()\n",
    "kernel = ['poly', 'rbf', 'sigmoid', 'linear']\n",
    "C = [50, 10, 1.0, 0.1, 0.01]\n",
    "gamma = ['scale']\n",
    "\n",
    "# define grid search\n",
    "grid = dict(kernel=kernel,C=C,gamma=gamma)\n",
    "cv = RepeatedStratifiedKFold(n_splits=10, n_repeats=3, random_state=1)\n",
    "grid_search = GridSearchCV(estimator=model, param_grid=grid, n_jobs=-1, cv=cv, scoring='accuracy',error_score=0)\n",
    "grid_result = grid_search.fit(X_train, y_train)\n",
    "\n",
    "# summarize results\n",
    "print(\"Best: %f using %s\" % (grid_result.best_score_, grid_result.best_params_))\n"
   ]
  },
  {
   "cell_type": "code",
   "execution_count": 31,
   "id": "e5f3bb9d",
   "metadata": {},
   "outputs": [
    {
     "name": "stdout",
     "output_type": "stream",
     "text": [
      "0.99975\n",
      "0.92675\n"
     ]
    }
   ],
   "source": [
    "from sklearn.svm import SVC\n",
    "svm_model = SVC(C = 50, gamma = 'scale', kernel = 'rbf', probability = True)\n",
    "svm_model.fit(X_train, y_train)\n",
    "y_test_pred_SVM = svm_model.predict(X_test)\n",
    "y_train_pred_SVM = svm_model.predict(X_train)\n",
    "print(accuracy_score(y_train, y_train_pred_SVM))\n",
    "print(accuracy_score(y_test, y_test_pred_SVM))"
   ]
  },
  {
   "cell_type": "code",
   "execution_count": 32,
   "id": "8b63c0dd",
   "metadata": {},
   "outputs": [
    {
     "name": "stdout",
     "output_type": "stream",
     "text": [
      "              precision    recall  f1-score   support\n",
      "\n",
      "           0       1.00      1.00      1.00      2168\n",
      "           1       1.00      1.00      1.00     11935\n",
      "           2       1.00      1.00      1.00      1897\n",
      "\n",
      "    accuracy                           1.00     16000\n",
      "   macro avg       1.00      1.00      1.00     16000\n",
      "weighted avg       1.00      1.00      1.00     16000\n",
      "\n",
      "              precision    recall  f1-score   support\n",
      "\n",
      "           0       1.00      0.70      0.82       502\n",
      "           1       0.91      1.00      0.95      3029\n",
      "           2       0.99      0.71      0.82       469\n",
      "\n",
      "    accuracy                           0.93      4000\n",
      "   macro avg       0.97      0.80      0.87      4000\n",
      "weighted avg       0.93      0.93      0.92      4000\n",
      "\n"
     ]
    }
   ],
   "source": [
    "# Classification report\n",
    "\n",
    "from sklearn.metrics import classification_report\n",
    "print(classification_report(y_train, y_train_pred_SVM))\n",
    "print(classification_report(y_test, y_test_pred_SVM))"
   ]
  },
  {
   "cell_type": "code",
   "execution_count": 133,
   "id": "7bed2700",
   "metadata": {},
   "outputs": [
    {
     "name": "stdout",
     "output_type": "stream",
     "text": [
      "4000 4000\n"
     ]
    }
   ],
   "source": [
    "print(len(y_test_pred_SVM),len(y_test))"
   ]
  },
  {
   "cell_type": "code",
   "execution_count": 134,
   "id": "1cbd18a8",
   "metadata": {},
   "outputs": [
    {
     "data": {
      "text/plain": [
       "(4000,)"
      ]
     },
     "execution_count": 134,
     "metadata": {},
     "output_type": "execute_result"
    }
   ],
   "source": [
    "y_test_pred_SVM.shape"
   ]
  },
  {
   "cell_type": "code",
   "execution_count": 135,
   "id": "bee3cfcc",
   "metadata": {
    "scrolled": true
   },
   "outputs": [
    {
     "data": {
      "text/plain": [
       "<AxesSubplot:>"
      ]
     },
     "execution_count": 135,
     "metadata": {},
     "output_type": "execute_result"
    },
    {
     "data": {
      "image/png": "[encoded data removed]",
      "text/plain": [
       "<Figure size 432x288 with 2 Axes>"
      ]
     },
     "metadata": {
      "needs_background": "light"
     },
     "output_type": "display_data"
    }
   ],
   "source": [
    "from sklearn.metrics import confusion_matrix\n",
    "import seaborn as sns\n",
    "sns.heatmap(confusion_matrix(y_test, y_test_pred_SVM), annot=True, cmap='Blues', fmt='g')"
   ]
  },
  {
   "cell_type": "code",
   "execution_count": 175,
   "id": "5bb11646",
   "metadata": {},
   "outputs": [
    {
     "data": {
      "text/plain": [
       "0.9561318335497342"
      ]
     },
     "execution_count": 175,
     "metadata": {},
     "output_type": "execute_result"
    }
   ],
   "source": [
    "# ROC-AUC score\n",
    "\n",
    "from sklearn.metrics import roc_auc_score\n",
    "roc_auc_score(y_score= svm_model.predict_proba(X_test), y_true= y_test, multi_class='ovr')"
   ]
  },
  {
   "cell_type": "code",
   "execution_count": 138,
   "id": "bf50b905",
   "metadata": {},
   "outputs": [
    {
     "data": {
      "text/plain": [
       "<matplotlib.legend.Legend at 0x23c823e9d30>"
      ]
     },
     "execution_count": 138,
     "metadata": {},
     "output_type": "execute_result"
    },
    {
     "data": {
      "image/png": "[encoded data removed]",
      "text/plain": [
       "<Figure size 432x288 with 1 Axes>"
      ]
     },
     "metadata": {
      "needs_background": "light"
     },
     "output_type": "display_data"
    }
   ],
   "source": [
    "# importing libraries\n",
    "# multi-class classification\n",
    "from sklearn.metrics import roc_curve\n",
    "from sklearn.metrics import roc_auc_score\n",
    "import matplotlib.pyplot as plt\n",
    "\n",
    "pred_prob = svm_model.predict_proba(X_test)\n",
    "\n",
    "# roc curve for classes\n",
    "fpr = {}\n",
    "tpr = {}\n",
    "thresh ={}\n",
    "\n",
    "n_class = 3\n",
    "\n",
    "for i in range(n_class):    \n",
    "    fpr[i], tpr[i], thresh[i] = roc_curve(y_test, pred_prob[:,i], pos_label=i)\n",
    "    \n",
    "# plotting    \n",
    "plt.plot(fpr[0], tpr[0], linestyle='--',color='orange', label='Class 0')\n",
    "plt.plot(fpr[1], tpr[1], linestyle='--',color='green', label='Class 1')\n",
    "plt.plot(fpr[2], tpr[2], linestyle='--',color='blue', label='Class 2')\n",
    "plt.title('Multiclass ROC curve')\n",
    "plt.xlabel('False Positive Rate')\n",
    "plt.ylabel('True Positive rate')\n",
    "plt.legend(loc='best')\n",
    "# plt.savefig('Multiclass ROC',dpi=300)"
   ]
  },
  {
   "cell_type": "markdown",
   "id": "0dcde0b1",
   "metadata": {},
   "source": [
    "## Displaying all test and train accuracies"
   ]
  },
  {
   "cell_type": "code",
   "execution_count": 31,
   "id": "064163bd",
   "metadata": {},
   "outputs": [
    {
     "name": "stdout",
     "output_type": "stream",
     "text": [
      "+------+---------------+----------------+---------------+\n",
      "| S.no |     Model     | Train_accuracy | Test_accuracy |\n",
      "+------+---------------+----------------+---------------+\n",
      "|  1   |  Naive Bayes  |      1.0       |     0.7285    |\n",
      "|  2   |      SVM      |      1.0       |     0.922     |\n",
      "|  3   |      MLP      |   0.9998125    |      0.92     |\n",
      "|  4   | Decision Tree |   0.7509375    |     0.7515    |\n",
      "+------+---------------+----------------+---------------+\n"
     ]
    }
   ],
   "source": [
    "from prettytable import PrettyTable\n",
    "x = PrettyTable()\n",
    "x.field_names = [\"S.no\", \"Model\", \"Train_accuracy\", \"Test_accuracy\"]\n",
    "x.add_row(['1', 'Naive Bayes', accuracy_score(y_train, y_train_pred_naive), accuracy_score(y_test, y_test_pred_naive)])\n",
    "x.add_row(['2', 'SVM', accuracy_score(y_train, y_train_pred_SVM), accuracy_score(y_test, y_test_pred_SVM)])\n",
    "x.add_row(['3', 'MLP', accuracy_score(y_train, y_train_pred_MLP), accuracy_score(y_test, y_test_pred_MLP)])\n",
    "x.add_row(['4', 'Decision Tree', accuracy_score(y_train, y_train_pred_dect), accuracy_score(y_test, y_test_pred_dect)])\n",
    "print(x)"
   ]
  },
  {
   "cell_type": "code",
   "execution_count": 87,
   "id": "73192d7c",
   "metadata": {},
   "outputs": [
    {
     "name": "stdout",
     "output_type": "stream",
     "text": [
      "Give atleast 8 characters\n",
      "lcopb334\n",
      "Your password was : Moderate\n",
      "Meets minimum stands advised to have a strong password :)\n"
     ]
    },
    {
     "name": "stderr",
     "output_type": "stream",
     "text": [
      "C:\\Users\\PunithaGnanathesigan\\anaconda3\\lib\\site-packages\\sklearn\\utils\\validation.py:727: FutureWarning: np.matrix usage is deprecated in 1.0 and will raise a TypeError in 1.2. Please convert to a numpy array with np.asarray. For more information see: https://numpy.org/doc/stable/reference/generated/numpy.matrix.html\n",
      "  warnings.warn(\n"
     ]
    }
   ],
   "source": [
    "#predicting user input\n",
    "print(\"Give atleast 8 characters\")\n",
    "inp = [input()]\n",
    "#print(len(inp[0]))\n",
    "if(len(inp[0]) > 7):\n",
    "\n",
    "    inp = vectorizer_state.transform(inp)\n",
    "    res=clf.predict(inp.todense())\n",
    "    if res[0] == 0:\n",
    "        print(\"your password was : Weak\")\n",
    "        print(\"Warning!!!! Please updtae the password with Special characters alpha numericals :(\")\n",
    "    elif res[0] ==1:\n",
    "        print(\"Your password was : Moderate\")\n",
    "        print(\"Meets minimum stands advised to have a strong password :)\")\n",
    "    else :\n",
    "        print(\"Your password was : Strong :>\")\n",
    "else:\n",
    "    print(\"password length was less than 8 characters please check\")"
   ]
  },
  {
   "cell_type": "code",
   "execution_count": null,
   "id": "131564b5",
   "metadata": {},
   "outputs": [],
   "source": []
  },
  {
   "cell_type": "code",
   "execution_count": null,
   "id": "44b011be",
   "metadata": {},
   "outputs": [],
   "source": []
  }
 ],
 "metadata": {
  "kernelspec": {
   "display_name": "Python 3 (ipykernel)",
   "language": "python",
   "name": "python3"
  },
  "language_info": {
   "codemirror_mode": {
    "name": "ipython",
    "version": 3
   },
   "file_extension": ".py",
   "mimetype": "text/x-python",
   "name": "python",
   "nbconvert_exporter": "python",
   "pygments_lexer": "ipython3",
   "version": "3.9.7"
  }
 },
 "nbformat": 4,
 "nbformat_minor": 5
}
